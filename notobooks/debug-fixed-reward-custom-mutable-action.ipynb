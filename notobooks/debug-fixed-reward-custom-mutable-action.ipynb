{
 "cells": [
  {
   "cell_type": "code",
   "execution_count": 1,
   "id": "3de00a92-92c3-4f43-a1bb-e208136e575f",
   "metadata": {},
   "outputs": [
    {
     "name": "stderr",
     "output_type": "stream",
     "text": [
      "/root/.cache/pypoetry/virtualenvs/root-qv7zuvpL-py3.9/lib/python3.9/site-packages/tqdm/auto.py:22: TqdmWarning: IProgress not found. Please update jupyter and ipywidgets. See https://ipywidgets.readthedocs.io/en/stable/user_install.html\n",
      "  from .autonotebook import tqdm as notebook_tqdm\n"
     ]
    }
   ],
   "source": [
    "import numpy as np\n",
    "import pandas as pd\n",
    "import gc\n",
    "import warnings\n",
    "import itertools\n",
    "from copy import deepcopy\n",
    "from tqdm import tqdm\n",
    "from pathlib import Path\n",
    "from matplotlib import pyplot as plt\n",
    "from typing import *\n",
    "\n",
    "import math\n",
    "import random\n",
    "from collections import namedtuple, deque\n",
    "\n",
    "import torch\n",
    "import torch.nn as nn\n",
    "import torch.optim as optim\n",
    "import torch.nn.functional as F\n",
    "\n",
    "pd.options.display.max_rows = 200\n",
    "pd.options.display.max_columns = 400\n",
    "\n",
    "warnings.filterwarnings(\"ignore\")"
   ]
  },
  {
   "cell_type": "code",
   "execution_count": 2,
   "id": "c2a8d6a6-e40d-4ad2-96ec-38797ebad597",
   "metadata": {},
   "outputs": [],
   "source": [
    "device = torch.device(\"cpu\")"
   ]
  },
  {
   "cell_type": "code",
   "execution_count": 3,
   "id": "68bfdea5-3a7a-4626-93d8-bfd0628e476a",
   "metadata": {},
   "outputs": [],
   "source": [
    "Transition = namedtuple('Transition',\n",
    "                        ('state', 'action', 'next_state', 'reward'))\n",
    "\n",
    "\n",
    "class ReplayMemory(object):\n",
    "\n",
    "    def __init__(self, capacity):\n",
    "        self.memory = deque([],maxlen=capacity)\n",
    "\n",
    "    def push(self, *args):\n",
    "        \"\"\"Save a transition\"\"\"\n",
    "        self.memory.append(Transition(*args))\n",
    "\n",
    "    def sample(self, batch_size):\n",
    "        return random.sample(self.memory, batch_size)\n",
    "\n",
    "    def __len__(self):\n",
    "        return len(self.memory)\n",
    "\n",
    "\n",
    "class DQN(nn.Module):\n",
    "    def __init__(self, inputs: int, outputs: int):\n",
    "        super(DQN, self).__init__()\n",
    "        self.fc1 = nn.Linear(inputs, 128)\n",
    "        self.fc2 = nn.Linear(128, 128)\n",
    "        self.fc3 = nn.Linear(128, outputs)\n",
    "\n",
    "    def forward(self, x: torch.Tensor):\n",
    "        x = x.to(device)\n",
    "        x = F.relu(self.fc1(x))\n",
    "        x = F.relu(self.fc2(x))\n",
    "        x = self.fc3(x)\n",
    "        return x"
   ]
  },
  {
   "cell_type": "code",
   "execution_count": 25,
   "id": "5f7300a7-2b4a-4854-a007-91250ffdc632",
   "metadata": {},
   "outputs": [],
   "source": [
    "def get_random_state(dim: int) -> torch.Tensor:\n",
    "    return torch.from_numpy((np.random.rand(dim) > 0.5).astype(np.float32)).view(1, -1)\n",
    "\n",
    "\n",
    "def get_fixed_reward(action: torch.Tensor) -> float:\n",
    "    action_idx = action.item()\n",
    "    if actions[action_idx] == \"Down\":\n",
    "        return 1\n",
    "    else:\n",
    "        return -1"
   ]
  },
  {
   "cell_type": "markdown",
   "id": "d279721c-eaae-46d0-b2c3-f2f9b215f0b8",
   "metadata": {},
   "source": [
    "### Training"
   ]
  },
  {
   "cell_type": "code",
   "execution_count": 5,
   "id": "62260efe-5746-44ec-9fbe-2932683084e5",
   "metadata": {},
   "outputs": [],
   "source": [
    "dqn_params = {\n",
    "    \"BATCH_SIZE\": 128,\n",
    "    \"GAMMA\": 0.999,\n",
    "    \"EPS_START\": 0.9,\n",
    "    \"EPS_END\": 0.05,\n",
    "    \"EPS_DECAY\": 200,\n",
    "    \"MEMORY_LENGTH\": 10000,\n",
    "}\n",
    "\n",
    "TARGET_UPDATE = 10"
   ]
  },
  {
   "cell_type": "code",
   "execution_count": 26,
   "id": "1b914c48-1a6c-4a8d-94fc-4eb241100109",
   "metadata": {},
   "outputs": [],
   "source": [
    "actions = np.array([\"Hold\", \"Up\", \"Down\"])\n",
    "n_actions = actions.shape[0]\n",
    "state_dim = 10"
   ]
  },
  {
   "cell_type": "code",
   "execution_count": 110,
   "id": "93a2ab2b-fbd8-4a5c-8a7a-fbd52d462b92",
   "metadata": {},
   "outputs": [],
   "source": [
    "class DQNAgent(object):\n",
    "    PSEUDO_INF = 1e10\n",
    "    \n",
    "    def __init__(self, state_dim: int, n_actions: int, device: torch.device, params: Dict[str, Any]):\n",
    "        self.state_dim = state_dim\n",
    "        self.n_actions = n_actions\n",
    "        self.device = device\n",
    "        self.params = params\n",
    "        \n",
    "        self.policy_net = DQN(inputs=state_dim, outputs=n_actions).to(device)\n",
    "        self.target_net = DQN(inputs=state_dim, outputs=n_actions).to(device)\n",
    "        self.target_net.load_state_dict(self.policy_net.state_dict())\n",
    "        self.target_net.eval()\n",
    "        \n",
    "        self.optimizer = optim.RMSprop(self.policy_net.parameters())\n",
    "        self.memory = ReplayMemory(capacity=self.params[\"MEMORY_LENGTH\"])\n",
    "        \n",
    "        self.steps_done = 0\n",
    "        \n",
    "        self.state_action_parser = StateActionParser(n_actions=n_actions)\n",
    "    \n",
    "    def select_action(self, state: torch.Tensor) -> torch.Tensor:\n",
    "        sample = random.random()\n",
    "        eps_threshold = self.params[\"EPS_END\"] + (self.params[\"EPS_START\"] - self.params[\"EPS_END\"]) * math.exp(-1. * self.steps_done / self.params[\"EPS_DECAY\"])\n",
    "        self.steps_done += 1\n",
    "        if sample > eps_threshold:\n",
    "            return self.select_fixed_action(state=state)\n",
    "        else:\n",
    "            return self.select_feasible_action(logit=torch.from_numpy(np.random.rand(self.n_actions)).view(1, -1), state=state)\n",
    "    \n",
    "    def select_fixed_action(self, state: torch.Tensor) -> torch.Tensor:\n",
    "        with torch.no_grad():\n",
    "            return self.select_feasible_action(logit=self.policy_net(state), state=state)\n",
    "    \n",
    "    def select_feasible_action(self, logit: torch.Tensor, state: torch.Tensor):\n",
    "        infeasible_mask = self.state_action_parser.get_infeasible_action_mask(state=state)\n",
    "        logit += -self.PSEUDO_INF * infeasible_mask\n",
    "        return logit.max(1)[1].view(1, 1)\n",
    "    \n",
    "    def optimize_model(self) -> None:\n",
    "        if len(self.memory) < self.params[\"BATCH_SIZE\"]:\n",
    "            return\n",
    "        transitions = self.memory.sample(self.params[\"BATCH_SIZE\"])\n",
    "        batch = Transition(*zip(*transitions))\n",
    "        \n",
    "        non_final_mask = torch.tensor(\n",
    "            tuple(map(lambda s: s is not None, batch.next_state)), \n",
    "            device=self.device, \n",
    "            dtype=torch.bool\n",
    "        )\n",
    "        non_final_next_states = torch.cat([s for s in batch.next_state if s is not None])\n",
    "        state_batch = torch.cat(batch.state)\n",
    "        action_batch = torch.cat(batch.action)\n",
    "        reward_batch = torch.cat(batch.reward)\n",
    "        \n",
    "        state_action_values = self.policy_net(state_batch).gather(1, action_batch)\n",
    "        \n",
    "        next_state_values = torch.zeros(self.params[\"BATCH_SIZE\"], device=self.device)\n",
    "        next_state_values[non_final_mask] = self.target_net(non_final_next_states).max(1)[0].detach()\n",
    "        expected_state_action_values = (next_state_values * self.params[\"GAMMA\"]) + reward_batch\n",
    "        \n",
    "        criterion = nn.SmoothL1Loss()\n",
    "        loss = criterion(state_action_values, expected_state_action_values.unsqueeze(1))\n",
    "        \n",
    "        self.optimizer.zero_grad()\n",
    "        loss.backward()\n",
    "        for param in self.policy_net.parameters():\n",
    "            param.grad.data.clamp_(-1, 1)\n",
    "        self.optimizer.step()\n",
    "    \n",
    "    def store_transition(self, transition: Tuple[torch.Tensor]) -> None:\n",
    "        self.memory.push(*transition)\n",
    "        \n",
    "    def update_model(self) -> None:\n",
    "        self.target_net.load_state_dict(self.policy_net.state_dict())\n",
    "        \n",
    "        \n",
    "class StateActionParser(object):\n",
    "    def __init__(self, n_actions: int):\n",
    "        self.n_actions = n_actions\n",
    "    \n",
    "    def get_infeasible_action_mask(self, state: torch.Tensor) -> torch.Tensor:\n",
    "        if state[0][0].item() == 0:\n",
    "            return torch.tensor([0, 0, 0], dtype=torch.float32)\n",
    "        else:\n",
    "            return torch.tensor([1, 0, 0], dtype=torch.float32)"
   ]
  },
  {
   "cell_type": "code",
   "execution_count": 111,
   "id": "d21fe382-d97b-4508-b2f2-9d18eca31d5f",
   "metadata": {},
   "outputs": [
    {
     "name": "stderr",
     "output_type": "stream",
     "text": [
      "100%|███████████████████████████████████████████████████████████████████████████████████████████████████████████████████████████████████████████████████████████████████████████████| 50/50 [00:13<00:00,  3.72it/s]\n"
     ]
    }
   ],
   "source": [
    "agent = DQNAgent(state_dim=state_dim, n_actions=n_actions, device=device, params=dqn_params)\n",
    "\n",
    "episode_durations = []\n",
    "num_episodes = 50\n",
    "for i_episode in tqdm(range(num_episodes)):\n",
    "    rewards = list()\n",
    "    # Initialize the environment and state\n",
    "    state = get_random_state(state_dim)\n",
    "    for t in range(100):\n",
    "        # Select and perform an action\n",
    "        action = agent.select_action(state)\n",
    "        reward = get_fixed_reward(action)\n",
    "        rewards.append(reward)\n",
    "        reward = torch.tensor([reward], device=device)\n",
    "\n",
    "        # Observe new state\n",
    "        next_state = get_random_state(state_dim)\n",
    "\n",
    "        # Store the transition in memory\n",
    "        agent.store_transition((state, action, next_state, reward))\n",
    "\n",
    "        # Move to the next state\n",
    "        state = next_state\n",
    "\n",
    "        # Perform one step of the optimization (on the policy network)\n",
    "        agent.optimize_model()\n",
    "    \n",
    "    episode_durations.append(np.mean(rewards))\n",
    "\n",
    "    # Update the target network, copying all weights and biases in DQN\n",
    "    if i_episode % TARGET_UPDATE == 0:\n",
    "        agent.update_model()"
   ]
  },
  {
   "cell_type": "code",
   "execution_count": 109,
   "id": "86318650-4749-4557-84c0-3959079b144a",
   "metadata": {},
   "outputs": [
    {
     "data": {
      "text/plain": [
       "[<matplotlib.lines.Line2D at 0xffff28f45ac0>]"
      ]
     },
     "execution_count": 109,
     "metadata": {},
     "output_type": "execute_result"
    },
    {
     "data": {
      "image/png": "[encoded data removed]",
      "text/plain": [
       "<Figure size 432x288 with 1 Axes>"
      ]
     },
     "metadata": {
      "needs_background": "light"
     },
     "output_type": "display_data"
    }
   ],
   "source": [
    "plt.plot(episode_durations)"
   ]
  },
  {
   "cell_type": "code",
   "execution_count": 31,
   "id": "7b0b71aa-326f-4e9a-875d-47a2c66216df",
   "metadata": {},
   "outputs": [
    {
     "name": "stdout",
     "output_type": "stream",
     "text": [
      "Reward(fixed): 1.0\n"
     ]
    }
   ],
   "source": [
    "rewards = list()\n",
    "for t in range(100):\n",
    "    # Select and perform an action\n",
    "    action = agent.select_fixed_action(state)\n",
    "    reward = get_fixed_reward(action)\n",
    "    rewards.append(reward)\n",
    "    reward = torch.tensor([reward], device=device)\n",
    "\n",
    "    # Observe new state\n",
    "    next_state = get_random_state(state_dim)\n",
    "\n",
    "    # Move to the next state\n",
    "    state = next_state\n",
    "\n",
    "print(f\"Reward(fixed): {np.mean(rewards)}\")"
   ]
  },
  {
   "cell_type": "code",
   "execution_count": null,
   "id": "47c67afe-9741-4702-a47f-0116ce259398",
   "metadata": {},
   "outputs": [],
   "source": []
  },
  {
   "cell_type": "code",
   "execution_count": null,
   "id": "9af06556-7505-4eed-adb3-7011545568ae",
   "metadata": {},
   "outputs": [],
   "source": []
  },
  {
   "cell_type": "code",
   "execution_count": null,
   "id": "3d27c814-490c-4b94-b72b-4712a9ace0c0",
   "metadata": {},
   "outputs": [],
   "source": []
  }
 ],
 "metadata": {
  "kernelspec": {
   "display_name": "Python 3 (ipykernel)",
   "language": "python",
   "name": "python3"
  },
  "language_info": {
   "codemirror_mode": {
    "name": "ipython",
    "version": 3
   },
   "file_extension": ".py",
   "mimetype": "text/x-python",
   "name": "python",
   "nbconvert_exporter": "python",
   "pygments_lexer": "ipython3",
   "version": "3.9.13"
  }
 },
 "nbformat": 4,
 "nbformat_minor": 5
}
