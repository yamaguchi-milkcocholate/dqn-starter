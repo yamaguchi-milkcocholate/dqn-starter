{
 "cells": [
  {
   "cell_type": "code",
   "execution_count": 6,
   "id": "d20defc5-9fae-4d98-ad53-cc4eba151a37",
   "metadata": {},
   "outputs": [],
   "source": [
    "import numpy as np\n",
    "import gym\n",
    "from stable_baselines3 import PPO\n",
    "from stable_baselines3.common.policies import ActorCriticPolicy\n",
    "from typing import *"
   ]
  },
  {
   "cell_type": "code",
   "execution_count": 8,
   "id": "58d7a7e9-d954-4b5e-970e-45e222b29364",
   "metadata": {},
   "outputs": [],
   "source": [
    "class LagEnv(gym.Env):\n",
    "    def __init__(self, state_dim: int, action_dim: int, n_lag: int):\n",
    "        super().__init__()\n",
    "        self.action_space = gym.spaces.Discrete(action_dim)\n",
    "        self.observation_space = gym.spaces.Box(\n",
    "            low=np.full(state_dim, -1).astype(np.float32),\n",
    "            high=np.full(state_dim, 1).astype(np.float32),\n",
    "        )\n",
    "        dict_space = {}\n",
    "        for i in range(n_lag):\n",
    "            dict_space[f\"state_{i}\"] = gym.spaces.Box(    \n",
    "                low=np.full(state_dim, -1).astype(np.float32),\n",
    "                high=np.full(state_dim, 1).astype(np.float32),\n",
    "            )\n",
    "        self.observation_space = gym.spaces.Dict(dict_space)\n",
    "    \n",
    "    def reset(self) -> np.ndarray:\n",
    "        pass\n",
    "    \n",
    "    def step(self, action_index: int) -> Tuple[np.ndarray, float, bool, Dict[str, Any]]:\n",
    "        pass\n",
    "    \n",
    "    def render(self):\n",
    "        raise NotImplementedError()"
   ]
  },
  {
   "cell_type": "code",
   "execution_count": 9,
   "id": "984680fe-947c-428c-a54a-80e71f1c58a9",
   "metadata": {},
   "outputs": [],
   "source": [
    "lagenv = LagEnv(state_dim=10, action_dim=5, n_lag=5)"
   ]
  },
  {
   "cell_type": "markdown",
   "id": "41656e0c-e2c9-4de5-851e-31fdf9dcfdd0",
   "metadata": {},
   "source": [
    "- [x] gym.EnvのLagDict環境を作成\n",
    "- [ ] FeatureExtractorを作成\n",
    "  - [x] FeatureAxis: MLPを時系列ごとにかける\n",
    "  - [ ] TimeAxis: MLPを特徴量ごとにかける\n",
    "  - [ ] CNN: いわゆる時系列CNN"
   ]
  },
  {
   "cell_type": "markdown",
   "id": "1b5edb9d-539a-4622-9402-720182d39ee3",
   "metadata": {},
   "source": [
    "### policy_kwargsの項目\n",
    "- features_extractor_class\n",
    "- features_extractor_kwargs（observation_space以外の引数）"
   ]
  },
  {
   "cell_type": "code",
   "execution_count": 25,
   "id": "8ad2d934-6ee2-498e-972c-2692baad6b6a",
   "metadata": {},
   "outputs": [],
   "source": [
    "import torch\n",
    "from torch import nn\n",
    "from stable_baselines3.common.torch_layers import BaseFeaturesExtractor\n",
    "\n",
    "\n",
    "class FeatureAxisCombinedExtractor(BaseFeaturesExtractor):\n",
    "    def __init__(self, observation_space: gym.spaces.Dict, emb_dim: int):\n",
    "        super(FeatureAxisCombinedExtractor, self).__init__(observation_space, features_dim=1)\n",
    "        self._check_state_dim(observation_space=observation_space)\n",
    "        \n",
    "        extractors = {\n",
    "            key: nn.Sequential(nn.Linear(self.state_dim, emb_dim), nn.ReLU())\n",
    "            for key in observation_space.spaces.keys()\n",
    "        }\n",
    "        self.extractors = nn.ModuleDict(extractors)\n",
    "        self._features_dim = emb_dim * len(observation_space)\n",
    "\n",
    "    def forward(self, observations) -> torch.Tensor:\n",
    "        embeds = []\n",
    "        for key, extractor in self.extractors.items():\n",
    "            embeds.append(extractor(observations[key]))\n",
    "        return torch.cat(embeds, dim=1)\n",
    "    \n",
    "    def _check_state_dim(self, observation_space: gym.spaces.Dict) -> None:\n",
    "        state_dims = []\n",
    "        for key, subspace in observation_space.spaces.items():\n",
    "            if not key.startswith(\"state_\"):\n",
    "                raise Exception(\"ラグ特徴量の状態を示さないkey\")\n",
    "            state_dims.append(subspace.shape[0])\n",
    "        \n",
    "        if max(state_dims) != min(state_dims):\n",
    "            raise Exception(\"特徴量数が時系列で異なる\")\n",
    "        \n",
    "        self.state_dim = state_dims[0]"
   ]
  },
  {
   "cell_type": "code",
   "execution_count": 26,
   "id": "7c6249d3-9e65-4183-93d6-59354fcf78fd",
   "metadata": {},
   "outputs": [],
   "source": [
    "fe = FeatureAxisCombinedExtractor(observation_space=lagenv.observation_space, emb_dim=16)"
   ]
  },
  {
   "cell_type": "code",
   "execution_count": 22,
   "id": "d3d8b53a-a073-40d6-aabe-611cfcc2c8eb",
   "metadata": {},
   "outputs": [
    {
     "data": {
      "text/plain": [
       "OrderedDict([('state_0',\n",
       "              array([-0.7439461 , -0.5942791 ,  0.5662168 , -0.23193447,  0.2599095 ,\n",
       "                     -0.14923005, -0.1183605 , -0.2974712 ,  0.6337957 ,  0.9915399 ],\n",
       "                    dtype=float32)),\n",
       "             ('state_1',\n",
       "              array([-0.7202005 ,  0.07508245, -0.9085906 , -0.9690788 , -0.5691145 ,\n",
       "                      0.25228876,  0.06154174, -0.6212881 , -0.9810684 ,  0.669271  ],\n",
       "                    dtype=float32)),\n",
       "             ('state_2',\n",
       "              array([-0.09554597,  0.6957237 ,  0.13710429,  0.5714343 ,  0.11541936,\n",
       "                     -0.8194528 , -0.9398576 ,  0.39805675,  0.7849702 , -0.06726027],\n",
       "                    dtype=float32)),\n",
       "             ('state_3',\n",
       "              array([-0.50279194,  0.15855195,  0.57658184,  0.23680189, -0.12748915,\n",
       "                      0.8073213 , -0.1417726 , -0.4662511 , -0.16362762,  0.4707762 ],\n",
       "                    dtype=float32)),\n",
       "             ('state_4',\n",
       "              array([-0.90996045, -0.0727635 ,  0.11205776,  0.09397692, -0.8994619 ,\n",
       "                      0.7400272 , -0.65438914, -0.9432653 ,  0.8497066 ,  0.8150603 ],\n",
       "                    dtype=float32))])"
      ]
     },
     "execution_count": 22,
     "metadata": {},
     "output_type": "execute_result"
    }
   ],
   "source": [
    "lagenv.observation_space.sample()"
   ]
  },
  {
   "cell_type": "code",
   "execution_count": null,
   "id": "24d8b73e-e614-453a-b9da-fea12c94057c",
   "metadata": {},
   "outputs": [],
   "source": [
    "model = PPO(policy=ActorCriticPolicy, env=env, verbose=1, **ppo_params)"
   ]
  }
 ],
 "metadata": {
  "kernelspec": {
   "display_name": "Python 3 (ipykernel)",
   "language": "python",
   "name": "python3"
  },
  "language_info": {
   "codemirror_mode": {
    "name": "ipython",
    "version": 3
   },
   "file_extension": ".py",
   "mimetype": "text/x-python",
   "name": "python",
   "nbconvert_exporter": "python",
   "pygments_lexer": "ipython3",
   "version": "3.9.13"
  }
 },
 "nbformat": 4,
 "nbformat_minor": 5
}
