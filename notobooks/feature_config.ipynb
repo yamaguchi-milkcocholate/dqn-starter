{
 "cells": [
  {
   "cell_type": "code",
   "execution_count": 2,
   "id": "80f74f58-002a-4c21-8d96-2a921abfaf14",
   "metadata": {},
   "outputs": [],
   "source": [
    "rootdir = Path().resolve().parent\n",
    "tadir = rootdir / \"data/ta\""
   ]
  },
  {
   "cell_type": "code",
   "execution_count": 9,
   "id": "3bd6f4d8-75ad-4166-91df-f0384c6fae7b",
   "metadata": {},
   "outputs": [],
   "source": [
    "volume = {\n",
    "    \"ChaikinMoneyFlowIndicator\": [{\"window\": 20}],\n",
    "    \"EaseOfMovementIndicator\": [{\"window\": 14}],\n",
    "    \"MFIIndicator\": [{\"window\": 14}],\n",
    "}\n",
    "volatility = {\n",
    "    \"BollingerBands\": [{\"window\": 20, \"window_dev\": 2}],\n",
    "    \"KeltnerChannel\": [{\"window\": 10}],\n",
    "    \"DonchianChannel\": [{\"window\": 20}],\n",
    "    \"UlcerIndex\": [{\"window\": 14}],\n",
    "}\n",
    "momentum = {\n",
    "    \"RSIIndicator\": [{\"window\": 14}],\n",
    "    \"StochRSIIndicator\": [{\"window\": 14, \"smooth1\": 3, \"smooth2\": 3}],\n",
    "    \"TSIIndicator\": [{\"window_slow\": 25, \"window_fast\": 13}],\n",
    "    \"UltimateOscillator\": [{\"window1\": 7, \"window2\": 14, \"window3\": 28, \"weight1\": 4.0, \"weight2\": 2.0, \"weight3\": 1.0}],\n",
    "    \"StochasticOscillator\": [{\"window\": 14, \"smooth_window\": 3}],\n",
    "    \"WilliamsRIndicator\": [{\"lbp\": 14}],\n",
    "    \"AwesomeOscillatorIndicator\": [{\"window1\": 5, \"window2\": 34}],\n",
    "    \"ROCIndicator\": [{\"window\": 12}],\n",
    "    \"PercentagePriceOscillator\": [{\"window_slow\": 26, \"window_fast\": 12, \"window_sign\": 9}],\n",
    "    \"PercentageVolumeOscillator\": [{\"window_slow\": 26, \"window_fast\": 12, \"window_sign\": 9}],\n",
    "}\n",
    "trend = {\n",
    "    \"MACD\": [{\"window_slow\": 26, \"window_fast\": 12, \"window_sign\": 9}],\n",
    "    \"VortexIndicator\": [{\"window\": 14}],\n",
    "    \"TRIXIndicator\": [{\"window\": 15}],\n",
    "    \"MassIndex\": [{\"window_fast\": 9, \"window_slow\": 25}],\n",
    "    \"DPOIndicator\": [{\"window\": 20}],\n",
    "    \"KSTIndicator\": [{\"roc1\": 10, \"roc2\": 15, \"roc3\": 20, \"roc4\": 30, \"window1\": 10, \"window2\": 10, \"window3\": 10, \"window4\": 15, \"nsig\": 9}],\n",
    "    \"STCIndicator\": [{\"window_slow\": 50, \"window_fast\": 23, \"cycle\": 10, \"smooth1\": 3, \"smooth2\": 3}],\n",
    "    \"ADXIndicator\": [{\"window\": 14}],\n",
    "    \"CCIIndicator\": [{\"window\": 20}],\n",
    "    \"AroonIndicator\": [{\"window\": 25}],\n",
    "    \"PSARIndicator\": [{}],\n",
    "}\n",
    "param = {}\n",
    "param.update(volume)\n",
    "param.update(volatility)\n",
    "param.update(momentum)\n",
    "param.update(trend)"
   ]
  },
  {
   "cell_type": "code",
   "execution_count": 10,
   "id": "a0fd917b-cbb6-422d-9483-9ef3caff2158",
   "metadata": {},
   "outputs": [],
   "source": [
    "method = {\n",
    "    \"ChaikinMoneyFlowIndicator\": {\"chaikin_money_flow\": \"cmf\"},\n",
    "    \"EaseOfMovementIndicator\": {\"ease_of_movement\": \"em\", \"sma_ease_of_movement\": \"sma_em\"},\n",
    "    \"MFIIndicator\": {\"money_flow_index\": \"mfi\"},\n",
    "    \"BollingerBands\": {\"bollinger_wband\": \"bbw\", \"bollinger_pband\": \"bbp\", \"bollinger_hband_indicator\": \"bbhi\", \"bollinger_lband_indicator\": \"bbli\"},\n",
    "    \"KeltnerChannel\": {\"keltner_channel_wband\": \"kcw\", \"keltner_channel_pband\": \"kcp\", \"keltner_channel_hband_indicator\": \"kchi\", \"keltner_channel_lband_indicator\": \"kcli\"},\n",
    "    \"DonchianChannel\": {\"donchian_channel_wband\": \"dcw\", \"donchian_channel_pband\": \"dcp\"},\n",
    "    \"UlcerIndex\": {\"ulcer_index\": \"ui\"},\n",
    "    \"RSIIndicator\": {\"rsi\": \"rsi\"},\n",
    "    \"StochRSIIndicator\": {\"stochrsi\": \"stoch_rsi\", \"stochrsi_k\": \"stoch_rsi_k\", \"stochrsi_d\": \"stoch_rsi_d\"},\n",
    "    \"TSIIndicator\": {\"tsi\": \"tsi\"},\n",
    "    \"UltimateOscillator\": {\"ultimate_oscillator\": \"uo\"},\n",
    "    \"StochasticOscillator\": {\"stoch\": \"stoch\", \"stoch_signal\": \"stoch_signal\"},\n",
    "    \"WilliamsRIndicator\": {\"williams_r\": \"wr\"},\n",
    "    \"AwesomeOscillatorIndicator\": {\"awesome_oscillator\": \"ao\"},\n",
    "    \"ROCIndicator\": {\"roc\": \"roc\"},\n",
    "    \"PercentagePriceOscillator\": {\"ppo\": \"ppo\", \"ppo_signal\": \"ppo_signal\", \"ppo_hist\": \"ppo_hist\"},\n",
    "    \"PercentageVolumeOscillator\": {\"pvo\": \"pvo\", \"pvo_signal\": \"pvo_signal\", \"pvo_hist\": \"pvo_hist\"},\n",
    "    \"MACD\": {\"macd\": \"macd\", \"macd_signal\": \"macd_signal\", \"macd_diff\": \"macd_diff\"},\n",
    "    \"VortexIndicator\": {\"vortex_indicator_pos\": \"vortex_ind_pos\", \"vortex_indicator_neg\": \"vortex_ind_neg\", \"vortex_indicator_diff\": \"vortex_ind_diff\"},\n",
    "    \"TRIXIndicator\": {\"trix\": \"trix\"},\n",
    "    \"MassIndex\": {\"mass_index\": \"mass_index\"},\n",
    "    \"DPOIndicator\": {\"dpo\": \"dpo\"},\n",
    "    \"KSTIndicator\": {\"kst\": \"kst\", \"kst_sig\": \"kst_sig\", \"kst_diff\": \"kst_diff\"},\n",
    "    \"STCIndicator\": {\"stc\": \"stc\"},\n",
    "    \"ADXIndicator\": {\"adx\": \"adx\", \"adx_pos\": \"adx_pos\", \"adx_neg\": \"adx_neg\"},\n",
    "    \"CCIIndicator\": {\"cci\": \"cci\"},\n",
    "    \"AroonIndicator\": {\"aroon_up\": \"aroon_up\", \"aroon_down\": \"aroon_down\", \"aroon_indicator\": \"aroon_ind\"},\n",
    "    \"PSARIndicator\": {\"psar_up_indicator\": \"psar_up_indicator\", \"psar_down_indicator\": \"psar_down_indicator\"},\n",
    "}"
   ]
  },
  {
   "cell_type": "code",
   "execution_count": 11,
   "id": "a3560f8a-95ad-4399-850c-eb5871eb6e37",
   "metadata": {},
   "outputs": [],
   "source": [
    "ohlcv = {\n",
    "    \"ChaikinMoneyFlowIndicator\": \"hlcv\",\n",
    "    \"EaseOfMovementIndicator\": \"hlv\",\n",
    "    \"MFIIndicator\": \"hlcv\",\n",
    "    \"BollingerBands\": \"c\",\n",
    "    \"KeltnerChannel\": \"chl\",\n",
    "    \"DonchianChannel\": \"hlc\",\n",
    "    \"UlcerIndex\": \"c\",\n",
    "    \"RSIIndicator\": \"c\",\n",
    "    \"StochRSIIndicator\": \"c\",\n",
    "    \"TSIIndicator\": \"c\",\n",
    "    \"UltimateOscillator\": \"hlc\",\n",
    "    \"StochasticOscillator\": \"hlc\",\n",
    "    \"WilliamsRIndicator\": \"hlc\",\n",
    "    \"AwesomeOscillatorIndicator\": \"hl\",\n",
    "    \"ROCIndicator\": \"c\",\n",
    "    \"PercentagePriceOscillator\": \"c\",\n",
    "    \"PercentageVolumeOscillator\": \"v\",\n",
    "    \"MACD\": \"c\",\n",
    "    \"VortexIndicator\": \"hlc\",\n",
    "    \"TRIXIndicator\": \"c\",\n",
    "    \"MassIndex\": \"hl\",\n",
    "    \"DPOIndicator\": \"c\",\n",
    "    \"KSTIndicator\": \"c\",\n",
    "    \"STCIndicator\": \"c\",\n",
    "    \"ADXIndicator\": \"hlc\",\n",
    "    \"CCIIndicator\": \"hlc\",\n",
    "    \"AroonIndicator\": \"c\",\n",
    "    \"PSARIndicator\": \"hlc\",\n",
    "}"
   ]
  },
  {
   "cell_type": "code",
   "execution_count": 12,
   "id": "cc90e5fc-29b3-45de-b887-1df5866a77ec",
   "metadata": {},
   "outputs": [],
   "source": [
    "ta_dict = {}\n",
    "for k in param.keys():\n",
    "    ta_dict[k] = {\n",
    "        \"params\": param[k], \"method\": method[k], \"ohlcv\": ohlcv[k]\n",
    "    }"
   ]
  },
  {
   "cell_type": "code",
   "execution_count": 13,
   "id": "9317e96b-b8a4-4c15-9860-d171eef4c677",
   "metadata": {},
   "outputs": [],
   "source": [
    "nmin = 1\n",
    "periods = [\n",
    "    1 * 1 // nmin,\n",
    "]"
   ]
  },
  {
   "cell_type": "code",
   "execution_count": 14,
   "id": "1e16609c-1ee2-4e59-ad94-a51d91685a34",
   "metadata": {},
   "outputs": [],
   "source": [
    "for k, v in ta_dict.items():\n",
    "    default = ta_dict[k][\"params\"][0]\n",
    "    _params = []\n",
    "    if len(default) > 0:\n",
    "        for period in periods:\n",
    "            _param = {}\n",
    "            for _pname, _pvalue in default.items():\n",
    "                _param[_pname] = _pvalue * period\n",
    "            _params.append(_param)\n",
    "    else:\n",
    "        _params.append({})\n",
    "    ta_dict[k][\"params\"] = _params"
   ]
  },
  {
   "cell_type": "code",
   "execution_count": 17,
   "id": "68cb9ae7-3705-4bd5-9523-fae1ae5a4028",
   "metadata": {},
   "outputs": [],
   "source": [
    "import json\n",
    "\n",
    "json.dump(ta_dict, open(tadir / \"config_.json\", \"w\"))"
   ]
  },
  {
   "cell_type": "markdown",
   "id": "e86921a9-2a25-455f-8672-526fb03cadd3",
   "metadata": {},
   "source": [
    "### 指標メモ\n",
    "#### 独自実装\n",
    "- リターン\n",
    "- 移動平均リターン\n",
    "- 指数移動平均リターン\n",
    "\n",
    "#### スキップが必要なもの\n",
    "- PSARIndicator\n",
    "    - indicator以外\n",
    "- BollingerBand\n",
    "    - bbl, bbh, bbm\n",
    "- KeltnerChannel\n",
    "    - kcc, kch, kcl\n",
    "- DonchianChannel\n",
    "    - dcl, dch, dcm"
   ]
  },
  {
   "cell_type": "code",
   "execution_count": null,
   "id": "fda6b15a-b1be-41a4-bcb5-db05f9b84e8c",
   "metadata": {},
   "outputs": [],
   "source": []
  }
 ],
 "metadata": {
  "kernelspec": {
   "display_name": "Python 3 (ipykernel)",
   "language": "python",
   "name": "python3"
  },
  "language_info": {
   "codemirror_mode": {
    "name": "ipython",
    "version": 3
   },
   "file_extension": ".py",
   "mimetype": "text/x-python",
   "name": "python",
   "nbconvert_exporter": "python",
   "pygments_lexer": "ipython3",
   "version": "3.9.13"
  }
 },
 "nbformat": 4,
 "nbformat_minor": 5
}
